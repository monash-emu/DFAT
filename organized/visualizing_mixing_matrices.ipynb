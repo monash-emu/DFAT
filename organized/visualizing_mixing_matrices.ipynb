{
 "cells": [
  {
   "cell_type": "code",
   "execution_count": 5,
   "metadata": {},
   "outputs": [],
   "source": [
    "import pandas as pd\n",
    "import plotly.express as px"
   ]
  },
  {
   "cell_type": "code",
   "execution_count": 3,
   "metadata": {},
   "outputs": [],
   "source": [
    "mixing_matrix_home = pd.read_csv(\"/Users/mark/dev/DFAT/mixing_matrices/12_year_bands/synthetic_mixing_ncr_home.csv\")\n",
    "mixing_matrix_work = pd.read_csv(\"/Users/mark/dev/DFAT/mixing_matrices/12_year_bands/synthetic_mixing_ncr_work.csv\")\n",
    "mixing_matrix_school = pd.read_csv(\"/Users/mark/dev/DFAT/mixing_matrices/12_year_bands/synthetic_mixing_ncr_school.csv\")\n",
    "mixing_matrix_other = pd.read_csv(\"/Users/mark/dev/DFAT/mixing_matrices/12_year_bands/synthetic_mixing_ncr_other.csv\")"
   ]
  },
  {
   "cell_type": "code",
   "execution_count": 6,
   "metadata": {},
   "outputs": [
    {
     "name": "stdout",
     "output_type": "stream",
     "text": [
      "(6, 6)\n"
     ]
    },
    {
     "data": {
      "application/vnd.plotly.v1+json": {
       "config": {
        "plotlyServerURL": "https://plot.ly"
       },
       "data": [
        {
         "coloraxis": "coloraxis",
         "hovertemplate": "x: %{x}<br>y: %{y}<br>color: %{z}<extra></extra>",
         "name": "0",
         "type": "heatmap",
         "xaxis": "x",
         "yaxis": "y",
         "z": [
          [
           5.087480681360556,
           1.7084541498692936,
           2.418818995200939,
           2.504192950181209,
           1.2083022699116688,
           1.0096441711153494
          ],
          [
           1.6301461398067412,
           7.509520125083185,
           2.559756585809004,
           2.5787849740236073,
           1.943333478569396,
           0.725737881586441
          ],
          [
           2.34387006334497,
           2.5995945558887863,
           6.3002088675547,
           3.684313211820091,
           3.1775837482947846,
           1.71020723355926
          ],
          [
           1.8393200152978257,
           1.9850956029540952,
           2.792646017392562,
           3.908360843382957,
           2.293395309376034,
           1.4800671782376869
          ],
          [
           0.608980473360609,
           1.026483320206592,
           1.652702256655393,
           1.573682762537468,
           2.240938577691142,
           0.992204780992808
          ],
          [
           0.310322759653183,
           0.23377704632485719,
           0.5424551838240961,
           0.6193515175022271,
           0.605088397785799,
           1.08156476714904
          ]
         ]
        }
       ],
       "layout": {
        "coloraxis": {
         "colorscale": [
          [
           0,
           "#0d0887"
          ],
          [
           0.1111111111111111,
           "#46039f"
          ],
          [
           0.2222222222222222,
           "#7201a8"
          ],
          [
           0.3333333333333333,
           "#9c179e"
          ],
          [
           0.4444444444444444,
           "#bd3786"
          ],
          [
           0.5555555555555556,
           "#d8576b"
          ],
          [
           0.6666666666666666,
           "#ed7953"
          ],
          [
           0.7777777777777778,
           "#fb9f3a"
          ],
          [
           0.8888888888888888,
           "#fdca26"
          ],
          [
           1,
           "#f0f921"
          ]
         ]
        },
        "margin": {
         "t": 60
        },
        "template": {
         "data": {
          "bar": [
           {
            "error_x": {
             "color": "#2a3f5f"
            },
            "error_y": {
             "color": "#2a3f5f"
            },
            "marker": {
             "line": {
              "color": "#E5ECF6",
              "width": 0.5
             },
             "pattern": {
              "fillmode": "overlay",
              "size": 10,
              "solidity": 0.2
             }
            },
            "type": "bar"
           }
          ],
          "barpolar": [
           {
            "marker": {
             "line": {
              "color": "#E5ECF6",
              "width": 0.5
             },
             "pattern": {
              "fillmode": "overlay",
              "size": 10,
              "solidity": 0.2
             }
            },
            "type": "barpolar"
           }
          ],
          "carpet": [
           {
            "aaxis": {
             "endlinecolor": "#2a3f5f",
             "gridcolor": "white",
             "linecolor": "white",
             "minorgridcolor": "white",
             "startlinecolor": "#2a3f5f"
            },
            "baxis": {
             "endlinecolor": "#2a3f5f",
             "gridcolor": "white",
             "linecolor": "white",
             "minorgridcolor": "white",
             "startlinecolor": "#2a3f5f"
            },
            "type": "carpet"
           }
          ],
          "choropleth": [
           {
            "colorbar": {
             "outlinewidth": 0,
             "ticks": ""
            },
            "type": "choropleth"
           }
          ],
          "contour": [
           {
            "colorbar": {
             "outlinewidth": 0,
             "ticks": ""
            },
            "colorscale": [
             [
              0,
              "#0d0887"
             ],
             [
              0.1111111111111111,
              "#46039f"
             ],
             [
              0.2222222222222222,
              "#7201a8"
             ],
             [
              0.3333333333333333,
              "#9c179e"
             ],
             [
              0.4444444444444444,
              "#bd3786"
             ],
             [
              0.5555555555555556,
              "#d8576b"
             ],
             [
              0.6666666666666666,
              "#ed7953"
             ],
             [
              0.7777777777777778,
              "#fb9f3a"
             ],
             [
              0.8888888888888888,
              "#fdca26"
             ],
             [
              1,
              "#f0f921"
             ]
            ],
            "type": "contour"
           }
          ],
          "contourcarpet": [
           {
            "colorbar": {
             "outlinewidth": 0,
             "ticks": ""
            },
            "type": "contourcarpet"
           }
          ],
          "heatmap": [
           {
            "colorbar": {
             "outlinewidth": 0,
             "ticks": ""
            },
            "colorscale": [
             [
              0,
              "#0d0887"
             ],
             [
              0.1111111111111111,
              "#46039f"
             ],
             [
              0.2222222222222222,
              "#7201a8"
             ],
             [
              0.3333333333333333,
              "#9c179e"
             ],
             [
              0.4444444444444444,
              "#bd3786"
             ],
             [
              0.5555555555555556,
              "#d8576b"
             ],
             [
              0.6666666666666666,
              "#ed7953"
             ],
             [
              0.7777777777777778,
              "#fb9f3a"
             ],
             [
              0.8888888888888888,
              "#fdca26"
             ],
             [
              1,
              "#f0f921"
             ]
            ],
            "type": "heatmap"
           }
          ],
          "heatmapgl": [
           {
            "colorbar": {
             "outlinewidth": 0,
             "ticks": ""
            },
            "colorscale": [
             [
              0,
              "#0d0887"
             ],
             [
              0.1111111111111111,
              "#46039f"
             ],
             [
              0.2222222222222222,
              "#7201a8"
             ],
             [
              0.3333333333333333,
              "#9c179e"
             ],
             [
              0.4444444444444444,
              "#bd3786"
             ],
             [
              0.5555555555555556,
              "#d8576b"
             ],
             [
              0.6666666666666666,
              "#ed7953"
             ],
             [
              0.7777777777777778,
              "#fb9f3a"
             ],
             [
              0.8888888888888888,
              "#fdca26"
             ],
             [
              1,
              "#f0f921"
             ]
            ],
            "type": "heatmapgl"
           }
          ],
          "histogram": [
           {
            "marker": {
             "pattern": {
              "fillmode": "overlay",
              "size": 10,
              "solidity": 0.2
             }
            },
            "type": "histogram"
           }
          ],
          "histogram2d": [
           {
            "colorbar": {
             "outlinewidth": 0,
             "ticks": ""
            },
            "colorscale": [
             [
              0,
              "#0d0887"
             ],
             [
              0.1111111111111111,
              "#46039f"
             ],
             [
              0.2222222222222222,
              "#7201a8"
             ],
             [
              0.3333333333333333,
              "#9c179e"
             ],
             [
              0.4444444444444444,
              "#bd3786"
             ],
             [
              0.5555555555555556,
              "#d8576b"
             ],
             [
              0.6666666666666666,
              "#ed7953"
             ],
             [
              0.7777777777777778,
              "#fb9f3a"
             ],
             [
              0.8888888888888888,
              "#fdca26"
             ],
             [
              1,
              "#f0f921"
             ]
            ],
            "type": "histogram2d"
           }
          ],
          "histogram2dcontour": [
           {
            "colorbar": {
             "outlinewidth": 0,
             "ticks": ""
            },
            "colorscale": [
             [
              0,
              "#0d0887"
             ],
             [
              0.1111111111111111,
              "#46039f"
             ],
             [
              0.2222222222222222,
              "#7201a8"
             ],
             [
              0.3333333333333333,
              "#9c179e"
             ],
             [
              0.4444444444444444,
              "#bd3786"
             ],
             [
              0.5555555555555556,
              "#d8576b"
             ],
             [
              0.6666666666666666,
              "#ed7953"
             ],
             [
              0.7777777777777778,
              "#fb9f3a"
             ],
             [
              0.8888888888888888,
              "#fdca26"
             ],
             [
              1,
              "#f0f921"
             ]
            ],
            "type": "histogram2dcontour"
           }
          ],
          "mesh3d": [
           {
            "colorbar": {
             "outlinewidth": 0,
             "ticks": ""
            },
            "type": "mesh3d"
           }
          ],
          "parcoords": [
           {
            "line": {
             "colorbar": {
              "outlinewidth": 0,
              "ticks": ""
             }
            },
            "type": "parcoords"
           }
          ],
          "pie": [
           {
            "automargin": true,
            "type": "pie"
           }
          ],
          "scatter": [
           {
            "fillpattern": {
             "fillmode": "overlay",
             "size": 10,
             "solidity": 0.2
            },
            "type": "scatter"
           }
          ],
          "scatter3d": [
           {
            "line": {
             "colorbar": {
              "outlinewidth": 0,
              "ticks": ""
             }
            },
            "marker": {
             "colorbar": {
              "outlinewidth": 0,
              "ticks": ""
             }
            },
            "type": "scatter3d"
           }
          ],
          "scattercarpet": [
           {
            "marker": {
             "colorbar": {
              "outlinewidth": 0,
              "ticks": ""
             }
            },
            "type": "scattercarpet"
           }
          ],
          "scattergeo": [
           {
            "marker": {
             "colorbar": {
              "outlinewidth": 0,
              "ticks": ""
             }
            },
            "type": "scattergeo"
           }
          ],
          "scattergl": [
           {
            "marker": {
             "colorbar": {
              "outlinewidth": 0,
              "ticks": ""
             }
            },
            "type": "scattergl"
           }
          ],
          "scattermapbox": [
           {
            "marker": {
             "colorbar": {
              "outlinewidth": 0,
              "ticks": ""
             }
            },
            "type": "scattermapbox"
           }
          ],
          "scatterpolar": [
           {
            "marker": {
             "colorbar": {
              "outlinewidth": 0,
              "ticks": ""
             }
            },
            "type": "scatterpolar"
           }
          ],
          "scatterpolargl": [
           {
            "marker": {
             "colorbar": {
              "outlinewidth": 0,
              "ticks": ""
             }
            },
            "type": "scatterpolargl"
           }
          ],
          "scatterternary": [
           {
            "marker": {
             "colorbar": {
              "outlinewidth": 0,
              "ticks": ""
             }
            },
            "type": "scatterternary"
           }
          ],
          "surface": [
           {
            "colorbar": {
             "outlinewidth": 0,
             "ticks": ""
            },
            "colorscale": [
             [
              0,
              "#0d0887"
             ],
             [
              0.1111111111111111,
              "#46039f"
             ],
             [
              0.2222222222222222,
              "#7201a8"
             ],
             [
              0.3333333333333333,
              "#9c179e"
             ],
             [
              0.4444444444444444,
              "#bd3786"
             ],
             [
              0.5555555555555556,
              "#d8576b"
             ],
             [
              0.6666666666666666,
              "#ed7953"
             ],
             [
              0.7777777777777778,
              "#fb9f3a"
             ],
             [
              0.8888888888888888,
              "#fdca26"
             ],
             [
              1,
              "#f0f921"
             ]
            ],
            "type": "surface"
           }
          ],
          "table": [
           {
            "cells": {
             "fill": {
              "color": "#EBF0F8"
             },
             "line": {
              "color": "white"
             }
            },
            "header": {
             "fill": {
              "color": "#C8D4E3"
             },
             "line": {
              "color": "white"
             }
            },
            "type": "table"
           }
          ]
         },
         "layout": {
          "annotationdefaults": {
           "arrowcolor": "#2a3f5f",
           "arrowhead": 0,
           "arrowwidth": 1
          },
          "autotypenumbers": "strict",
          "coloraxis": {
           "colorbar": {
            "outlinewidth": 0,
            "ticks": ""
           }
          },
          "colorscale": {
           "diverging": [
            [
             0,
             "#8e0152"
            ],
            [
             0.1,
             "#c51b7d"
            ],
            [
             0.2,
             "#de77ae"
            ],
            [
             0.3,
             "#f1b6da"
            ],
            [
             0.4,
             "#fde0ef"
            ],
            [
             0.5,
             "#f7f7f7"
            ],
            [
             0.6,
             "#e6f5d0"
            ],
            [
             0.7,
             "#b8e186"
            ],
            [
             0.8,
             "#7fbc41"
            ],
            [
             0.9,
             "#4d9221"
            ],
            [
             1,
             "#276419"
            ]
           ],
           "sequential": [
            [
             0,
             "#0d0887"
            ],
            [
             0.1111111111111111,
             "#46039f"
            ],
            [
             0.2222222222222222,
             "#7201a8"
            ],
            [
             0.3333333333333333,
             "#9c179e"
            ],
            [
             0.4444444444444444,
             "#bd3786"
            ],
            [
             0.5555555555555556,
             "#d8576b"
            ],
            [
             0.6666666666666666,
             "#ed7953"
            ],
            [
             0.7777777777777778,
             "#fb9f3a"
            ],
            [
             0.8888888888888888,
             "#fdca26"
            ],
            [
             1,
             "#f0f921"
            ]
           ],
           "sequentialminus": [
            [
             0,
             "#0d0887"
            ],
            [
             0.1111111111111111,
             "#46039f"
            ],
            [
             0.2222222222222222,
             "#7201a8"
            ],
            [
             0.3333333333333333,
             "#9c179e"
            ],
            [
             0.4444444444444444,
             "#bd3786"
            ],
            [
             0.5555555555555556,
             "#d8576b"
            ],
            [
             0.6666666666666666,
             "#ed7953"
            ],
            [
             0.7777777777777778,
             "#fb9f3a"
            ],
            [
             0.8888888888888888,
             "#fdca26"
            ],
            [
             1,
             "#f0f921"
            ]
           ]
          },
          "colorway": [
           "#636efa",
           "#EF553B",
           "#00cc96",
           "#ab63fa",
           "#FFA15A",
           "#19d3f3",
           "#FF6692",
           "#B6E880",
           "#FF97FF",
           "#FECB52"
          ],
          "font": {
           "color": "#2a3f5f"
          },
          "geo": {
           "bgcolor": "white",
           "lakecolor": "white",
           "landcolor": "#E5ECF6",
           "showlakes": true,
           "showland": true,
           "subunitcolor": "white"
          },
          "hoverlabel": {
           "align": "left"
          },
          "hovermode": "closest",
          "mapbox": {
           "style": "light"
          },
          "paper_bgcolor": "white",
          "plot_bgcolor": "#E5ECF6",
          "polar": {
           "angularaxis": {
            "gridcolor": "white",
            "linecolor": "white",
            "ticks": ""
           },
           "bgcolor": "#E5ECF6",
           "radialaxis": {
            "gridcolor": "white",
            "linecolor": "white",
            "ticks": ""
           }
          },
          "scene": {
           "xaxis": {
            "backgroundcolor": "#E5ECF6",
            "gridcolor": "white",
            "gridwidth": 2,
            "linecolor": "white",
            "showbackground": true,
            "ticks": "",
            "zerolinecolor": "white"
           },
           "yaxis": {
            "backgroundcolor": "#E5ECF6",
            "gridcolor": "white",
            "gridwidth": 2,
            "linecolor": "white",
            "showbackground": true,
            "ticks": "",
            "zerolinecolor": "white"
           },
           "zaxis": {
            "backgroundcolor": "#E5ECF6",
            "gridcolor": "white",
            "gridwidth": 2,
            "linecolor": "white",
            "showbackground": true,
            "ticks": "",
            "zerolinecolor": "white"
           }
          },
          "shapedefaults": {
           "line": {
            "color": "#2a3f5f"
           }
          },
          "ternary": {
           "aaxis": {
            "gridcolor": "white",
            "linecolor": "white",
            "ticks": ""
           },
           "baxis": {
            "gridcolor": "white",
            "linecolor": "white",
            "ticks": ""
           },
           "bgcolor": "#E5ECF6",
           "caxis": {
            "gridcolor": "white",
            "linecolor": "white",
            "ticks": ""
           }
          },
          "title": {
           "x": 0.05
          },
          "xaxis": {
           "automargin": true,
           "gridcolor": "white",
           "linecolor": "white",
           "ticks": "",
           "title": {
            "standoff": 15
           },
           "zerolinecolor": "white",
           "zerolinewidth": 2
          },
          "yaxis": {
           "automargin": true,
           "gridcolor": "white",
           "linecolor": "white",
           "ticks": "",
           "title": {
            "standoff": 15
           },
           "zerolinecolor": "white",
           "zerolinewidth": 2
          }
         }
        },
        "xaxis": {
         "anchor": "y",
         "constrain": "domain",
         "domain": [
          0,
          1
         ],
         "scaleanchor": "y"
        },
        "yaxis": {
         "anchor": "x",
         "autorange": "reversed",
         "constrain": "domain",
         "domain": [
          0,
          1
         ]
        }
       }
      }
     },
     "metadata": {},
     "output_type": "display_data"
    }
   ],
   "source": [
    "home_weight = 1.0\n",
    "work_weight = 1.0\n",
    "school_weight = 0.0 #Schools are closed during ENTIRE period.\n",
    "other_weight = 1.0\n",
    "\n",
    "age_mixing_matrix = home_weight * mixing_matrix_home.drop(['Unnamed: 0'],axis=1).to_numpy() + work_weight * mixing_matrix_work.drop(['Unnamed: 0'],axis=1).to_numpy() + school_weight * mixing_matrix_school.drop(['Unnamed: 0'],axis=1).to_numpy() + other_weight * mixing_matrix_other.drop(['Unnamed: 0'],axis=1).to_numpy()\n",
    "print(age_mixing_matrix.shape)\n",
    "px.imshow(age_mixing_matrix)"
   ]
  },
  {
   "cell_type": "code",
   "execution_count": 8,
   "metadata": {},
   "outputs": [
    {
     "data": {
      "text/html": [
       "<div>\n",
       "<style scoped>\n",
       "    .dataframe tbody tr th:only-of-type {\n",
       "        vertical-align: middle;\n",
       "    }\n",
       "\n",
       "    .dataframe tbody tr th {\n",
       "        vertical-align: top;\n",
       "    }\n",
       "\n",
       "    .dataframe thead th {\n",
       "        text-align: right;\n",
       "    }\n",
       "</style>\n",
       "<table border=\"1\" class=\"dataframe\">\n",
       "  <thead>\n",
       "    <tr style=\"text-align: right;\">\n",
       "      <th></th>\n",
       "      <th>Unnamed: 0</th>\n",
       "      <th>[0,12)</th>\n",
       "      <th>[12,24)</th>\n",
       "      <th>[24,36)</th>\n",
       "      <th>[36,48)</th>\n",
       "      <th>[48,60)</th>\n",
       "      <th>[60,Inf)</th>\n",
       "    </tr>\n",
       "  </thead>\n",
       "  <tbody>\n",
       "    <tr>\n",
       "      <th>0</th>\n",
       "      <td>[0,12)</td>\n",
       "      <td>1.914404</td>\n",
       "      <td>0.794784</td>\n",
       "      <td>1.367950</td>\n",
       "      <td>1.402544</td>\n",
       "      <td>0.569246</td>\n",
       "      <td>0.511865</td>\n",
       "    </tr>\n",
       "    <tr>\n",
       "      <th>1</th>\n",
       "      <td>[12,24)</td>\n",
       "      <td>0.758354</td>\n",
       "      <td>1.619857</td>\n",
       "      <td>0.562456</td>\n",
       "      <td>1.109257</td>\n",
       "      <td>0.873833</td>\n",
       "      <td>0.288136</td>\n",
       "    </tr>\n",
       "    <tr>\n",
       "      <th>2</th>\n",
       "      <td>[24,36)</td>\n",
       "      <td>1.325563</td>\n",
       "      <td>0.571209</td>\n",
       "      <td>1.220293</td>\n",
       "      <td>0.481188</td>\n",
       "      <td>0.735342</td>\n",
       "      <td>0.520479</td>\n",
       "    </tr>\n",
       "    <tr>\n",
       "      <th>3</th>\n",
       "      <td>[36,48)</td>\n",
       "      <td>1.030163</td>\n",
       "      <td>0.853883</td>\n",
       "      <td>0.364732</td>\n",
       "      <td>0.796951</td>\n",
       "      <td>0.302310</td>\n",
       "      <td>0.427938</td>\n",
       "    </tr>\n",
       "    <tr>\n",
       "      <th>4</th>\n",
       "      <td>[48,60)</td>\n",
       "      <td>0.286898</td>\n",
       "      <td>0.461565</td>\n",
       "      <td>0.382461</td>\n",
       "      <td>0.207439</td>\n",
       "      <td>0.602958</td>\n",
       "      <td>0.213408</td>\n",
       "    </tr>\n",
       "    <tr>\n",
       "      <th>5</th>\n",
       "      <td>[60,Inf)</td>\n",
       "      <td>0.157326</td>\n",
       "      <td>0.092815</td>\n",
       "      <td>0.165089</td>\n",
       "      <td>0.179076</td>\n",
       "      <td>0.130145</td>\n",
       "      <td>0.393055</td>\n",
       "    </tr>\n",
       "  </tbody>\n",
       "</table>\n",
       "</div>"
      ],
      "text/plain": [
       "  Unnamed: 0    [0,12)   [12,24)   [24,36)   [36,48)   [48,60)  [60,Inf)\n",
       "0     [0,12)  1.914404  0.794784  1.367950  1.402544  0.569246  0.511865\n",
       "1    [12,24)  0.758354  1.619857  0.562456  1.109257  0.873833  0.288136\n",
       "2    [24,36)  1.325563  0.571209  1.220293  0.481188  0.735342  0.520479\n",
       "3    [36,48)  1.030163  0.853883  0.364732  0.796951  0.302310  0.427938\n",
       "4    [48,60)  0.286898  0.461565  0.382461  0.207439  0.602958  0.213408\n",
       "5   [60,Inf)  0.157326  0.092815  0.165089  0.179076  0.130145  0.393055"
      ]
     },
     "execution_count": 8,
     "metadata": {},
     "output_type": "execute_result"
    }
   ],
   "source": [
    "mixing_matrix_home"
   ]
  },
  {
   "cell_type": "code",
   "execution_count": 9,
   "metadata": {},
   "outputs": [
    {
     "data": {
      "text/html": [
       "<div>\n",
       "<style scoped>\n",
       "    .dataframe tbody tr th:only-of-type {\n",
       "        vertical-align: middle;\n",
       "    }\n",
       "\n",
       "    .dataframe tbody tr th {\n",
       "        vertical-align: top;\n",
       "    }\n",
       "\n",
       "    .dataframe thead th {\n",
       "        text-align: right;\n",
       "    }\n",
       "</style>\n",
       "<table border=\"1\" class=\"dataframe\">\n",
       "  <thead>\n",
       "    <tr style=\"text-align: right;\">\n",
       "      <th></th>\n",
       "      <th>Unnamed: 0</th>\n",
       "      <th>[0,12)</th>\n",
       "      <th>[12,24)</th>\n",
       "      <th>[24,36)</th>\n",
       "      <th>[36,48)</th>\n",
       "      <th>[48,60)</th>\n",
       "      <th>[60,Inf)</th>\n",
       "    </tr>\n",
       "  </thead>\n",
       "  <tbody>\n",
       "    <tr>\n",
       "      <th>0</th>\n",
       "      <td>[0,12)</td>\n",
       "      <td>0.018029</td>\n",
       "      <td>0.038617</td>\n",
       "      <td>0.118087</td>\n",
       "      <td>0.134204</td>\n",
       "      <td>0.093694</td>\n",
       "      <td>0.021586</td>\n",
       "    </tr>\n",
       "    <tr>\n",
       "      <th>1</th>\n",
       "      <td>[12,24)</td>\n",
       "      <td>0.036847</td>\n",
       "      <td>0.482685</td>\n",
       "      <td>0.645101</td>\n",
       "      <td>0.510600</td>\n",
       "      <td>0.375035</td>\n",
       "      <td>0.121811</td>\n",
       "    </tr>\n",
       "    <tr>\n",
       "      <th>2</th>\n",
       "      <td>[24,36)</td>\n",
       "      <td>0.114428</td>\n",
       "      <td>0.655141</td>\n",
       "      <td>2.104719</td>\n",
       "      <td>1.805703</td>\n",
       "      <td>1.151920</td>\n",
       "      <td>0.351847</td>\n",
       "    </tr>\n",
       "    <tr>\n",
       "      <th>3</th>\n",
       "      <td>[36,48)</td>\n",
       "      <td>0.098572</td>\n",
       "      <td>0.393049</td>\n",
       "      <td>1.368691</td>\n",
       "      <td>1.657272</td>\n",
       "      <td>1.109943</td>\n",
       "      <td>0.295196</td>\n",
       "    </tr>\n",
       "    <tr>\n",
       "      <th>4</th>\n",
       "      <td>[48,60)</td>\n",
       "      <td>0.047221</td>\n",
       "      <td>0.198097</td>\n",
       "      <td>0.599129</td>\n",
       "      <td>0.761621</td>\n",
       "      <td>0.758066</td>\n",
       "      <td>0.208065</td>\n",
       "    </tr>\n",
       "    <tr>\n",
       "      <th>5</th>\n",
       "      <td>[60,Inf)</td>\n",
       "      <td>0.006635</td>\n",
       "      <td>0.039238</td>\n",
       "      <td>0.111601</td>\n",
       "      <td>0.123528</td>\n",
       "      <td>0.126887</td>\n",
       "      <td>0.066274</td>\n",
       "    </tr>\n",
       "  </tbody>\n",
       "</table>\n",
       "</div>"
      ],
      "text/plain": [
       "  Unnamed: 0    [0,12)   [12,24)   [24,36)   [36,48)   [48,60)  [60,Inf)\n",
       "0     [0,12)  0.018029  0.038617  0.118087  0.134204  0.093694  0.021586\n",
       "1    [12,24)  0.036847  0.482685  0.645101  0.510600  0.375035  0.121811\n",
       "2    [24,36)  0.114428  0.655141  2.104719  1.805703  1.151920  0.351847\n",
       "3    [36,48)  0.098572  0.393049  1.368691  1.657272  1.109943  0.295196\n",
       "4    [48,60)  0.047221  0.198097  0.599129  0.761621  0.758066  0.208065\n",
       "5   [60,Inf)  0.006635  0.039238  0.111601  0.123528  0.126887  0.066274"
      ]
     },
     "execution_count": 9,
     "metadata": {},
     "output_type": "execute_result"
    }
   ],
   "source": [
    "mixing_matrix_work"
   ]
  },
  {
   "cell_type": "code",
   "execution_count": 10,
   "metadata": {},
   "outputs": [
    {
     "data": {
      "text/html": [
       "<div>\n",
       "<style scoped>\n",
       "    .dataframe tbody tr th:only-of-type {\n",
       "        vertical-align: middle;\n",
       "    }\n",
       "\n",
       "    .dataframe tbody tr th {\n",
       "        vertical-align: top;\n",
       "    }\n",
       "\n",
       "    .dataframe thead th {\n",
       "        text-align: right;\n",
       "    }\n",
       "</style>\n",
       "<table border=\"1\" class=\"dataframe\">\n",
       "  <thead>\n",
       "    <tr style=\"text-align: right;\">\n",
       "      <th></th>\n",
       "      <th>Unnamed: 0</th>\n",
       "      <th>[0,12)</th>\n",
       "      <th>[12,24)</th>\n",
       "      <th>[24,36)</th>\n",
       "      <th>[36,48)</th>\n",
       "      <th>[48,60)</th>\n",
       "      <th>[60,Inf)</th>\n",
       "    </tr>\n",
       "  </thead>\n",
       "  <tbody>\n",
       "    <tr>\n",
       "      <th>0</th>\n",
       "      <td>[0,12)</td>\n",
       "      <td>3.155047</td>\n",
       "      <td>0.875053</td>\n",
       "      <td>0.932782</td>\n",
       "      <td>0.967445</td>\n",
       "      <td>0.545363</td>\n",
       "      <td>0.476193</td>\n",
       "    </tr>\n",
       "    <tr>\n",
       "      <th>1</th>\n",
       "      <td>[12,24)</td>\n",
       "      <td>0.834945</td>\n",
       "      <td>5.406979</td>\n",
       "      <td>1.352200</td>\n",
       "      <td>0.958928</td>\n",
       "      <td>0.694465</td>\n",
       "      <td>0.315791</td>\n",
       "    </tr>\n",
       "    <tr>\n",
       "      <th>2</th>\n",
       "      <td>[24,36)</td>\n",
       "      <td>0.903879</td>\n",
       "      <td>1.373244</td>\n",
       "      <td>2.975197</td>\n",
       "      <td>1.397423</td>\n",
       "      <td>1.290322</td>\n",
       "      <td>0.837881</td>\n",
       "    </tr>\n",
       "    <tr>\n",
       "      <th>3</th>\n",
       "      <td>[36,48)</td>\n",
       "      <td>0.710584</td>\n",
       "      <td>0.738163</td>\n",
       "      <td>1.059222</td>\n",
       "      <td>1.454138</td>\n",
       "      <td>0.881143</td>\n",
       "      <td>0.756934</td>\n",
       "    </tr>\n",
       "    <tr>\n",
       "      <th>4</th>\n",
       "      <td>[48,60)</td>\n",
       "      <td>0.274861</td>\n",
       "      <td>0.366822</td>\n",
       "      <td>0.671113</td>\n",
       "      <td>0.604623</td>\n",
       "      <td>0.879915</td>\n",
       "      <td>0.570732</td>\n",
       "    </tr>\n",
       "    <tr>\n",
       "      <th>5</th>\n",
       "      <td>[60,Inf)</td>\n",
       "      <td>0.146362</td>\n",
       "      <td>0.101724</td>\n",
       "      <td>0.265765</td>\n",
       "      <td>0.316748</td>\n",
       "      <td>0.348056</td>\n",
       "      <td>0.622236</td>\n",
       "    </tr>\n",
       "  </tbody>\n",
       "</table>\n",
       "</div>"
      ],
      "text/plain": [
       "  Unnamed: 0    [0,12)   [12,24)   [24,36)   [36,48)   [48,60)  [60,Inf)\n",
       "0     [0,12)  3.155047  0.875053  0.932782  0.967445  0.545363  0.476193\n",
       "1    [12,24)  0.834945  5.406979  1.352200  0.958928  0.694465  0.315791\n",
       "2    [24,36)  0.903879  1.373244  2.975197  1.397423  1.290322  0.837881\n",
       "3    [36,48)  0.710584  0.738163  1.059222  1.454138  0.881143  0.756934\n",
       "4    [48,60)  0.274861  0.366822  0.671113  0.604623  0.879915  0.570732\n",
       "5   [60,Inf)  0.146362  0.101724  0.265765  0.316748  0.348056  0.622236"
      ]
     },
     "execution_count": 10,
     "metadata": {},
     "output_type": "execute_result"
    }
   ],
   "source": [
    "mixing_matrix_other"
   ]
  },
  {
   "cell_type": "code",
   "execution_count": 7,
   "metadata": {},
   "outputs": [
    {
     "data": {
      "text/plain": [
       "array([[5.08748068, 1.70845415, 2.418819  , 2.50419295, 1.20830227,\n",
       "        1.00964417],\n",
       "       [1.63014614, 7.50952013, 2.55975659, 2.57878497, 1.94333348,\n",
       "        0.72573788],\n",
       "       [2.34387006, 2.59959456, 6.30020887, 3.68431321, 3.17758375,\n",
       "        1.71020723],\n",
       "       [1.83932002, 1.9850956 , 2.79264602, 3.90836084, 2.29339531,\n",
       "        1.48006718],\n",
       "       [0.60898047, 1.02648332, 1.65270226, 1.57368276, 2.24093858,\n",
       "        0.99220478],\n",
       "       [0.31032276, 0.23377705, 0.54245518, 0.61935152, 0.6050884 ,\n",
       "        1.08156477]])"
      ]
     },
     "execution_count": 7,
     "metadata": {},
     "output_type": "execute_result"
    }
   ],
   "source": [
    "age_mixing_matrix"
   ]
  }
 ],
 "metadata": {
  "kernelspec": {
   "display_name": "summer2",
   "language": "python",
   "name": "python3"
  },
  "language_info": {
   "codemirror_mode": {
    "name": "ipython",
    "version": 3
   },
   "file_extension": ".py",
   "mimetype": "text/x-python",
   "name": "python",
   "nbconvert_exporter": "python",
   "pygments_lexer": "ipython3",
   "version": "3.10.13"
  },
  "orig_nbformat": 4
 },
 "nbformat": 4,
 "nbformat_minor": 2
}
